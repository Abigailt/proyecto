{
 "metadata": {
  "name": ""
 },
 "nbformat": 3,
 "nbformat_minor": 0,
 "worksheets": [
  {
   "cells": [
    {
     "cell_type": "code",
     "collapsed": false,
     "input": [
      "import numpy as np\n",
      "from intervalo import *"
     ],
     "language": "python",
     "metadata": {},
     "outputs": [],
     "prompt_number": 144
    },
    {
     "cell_type": "code",
     "collapsed": false,
     "input": [
      "%matplotlib inline"
     ],
     "language": "python",
     "metadata": {},
     "outputs": [],
     "prompt_number": 109
    },
    {
     "cell_type": "code",
     "collapsed": false,
     "input": [
      "from matplotlib import pyplot as plt"
     ],
     "language": "python",
     "metadata": {},
     "outputs": [],
     "prompt_number": 110
    },
    {
     "cell_type": "code",
     "collapsed": false,
     "input": [
      "def f(x,r):\n",
      "    return r*x*(1-x)"
     ],
     "language": "python",
     "metadata": {},
     "outputs": [],
     "prompt_number": 111
    },
    {
     "cell_type": "code",
     "collapsed": false,
     "input": [
      "def mapeo(r, lista_r = None, lista_x = None, x = 1e-5, datos_a_guardar = 100, eps = 10e-8):\n",
      "        if lista_r is None:\n",
      "            lista_r = []\n",
      "        if lista_x is None:\n",
      "            lista_x = []\n",
      "        \n",
      "        primeras_iteraciones = 1000\n",
      "        rango = primeras_iteraciones + datos_a_guardar\n",
      "        for i in range(rango):\n",
      "            if i > primeras_iteraciones:\n",
      "                lista_x.append(x)\n",
      "                lista_r.append(r)\n",
      "            x = f(x,r)\n",
      "        M = np.array([lista_r, lista_x] )    \n",
      "        plt.plot( M[0], M[1], '.', markersize = .8, color = 'black' )\n",
      "        return [r, M[1]]"
     ],
     "language": "python",
     "metadata": {},
     "outputs": [],
     "prompt_number": 203
    },
    {
     "cell_type": "code",
     "collapsed": false,
     "input": [
      "a = mapeo(3.46)[1]"
     ],
     "language": "python",
     "metadata": {},
     "outputs": [
      {
       "metadata": {},
       "output_type": "display_data",
       "png": "[encoded data removed]",
       "text": [
        "<matplotlib.figure.Figure at 0x11ee3df90>"
       ]
      }
     ],
     "prompt_number": 204
    },
    {
     "cell_type": "code",
     "collapsed": false,
     "input": [
      "def encontrar_puntos(r) :\n",
      "    a = mapeo(r)[1];\n",
      "    # borrar valores repetidos\n",
      "    seen = set()\n",
      "    seen_add = seen.add\n",
      "    res = [ x for x in a if x not in seen and not seen_add(x)]\n",
      "    res.sort()\n",
      "    return res"
     ],
     "language": "python",
     "metadata": {},
     "outputs": [],
     "prompt_number": 205
    },
    {
     "cell_type": "code",
     "collapsed": false,
     "input": [
      "encontrar_puntos(3.7)"
     ],
     "language": "python",
     "metadata": {},
     "outputs": [
      {
       "metadata": {},
       "output_type": "pyout",
       "prompt_number": 212,
       "text": [
        "[0.25692620772688202,\n",
        " 0.25696322199581789,\n",
        " 0.26109516956780715,\n",
        " 0.26227267055058751,\n",
        " 0.26265532914114448,\n",
        " 0.26296547924868219,\n",
        " 0.28314895129557566,\n",
        " 0.28569200366584091,\n",
        " 0.29050040065586291,\n",
        " 0.29882094205008636,\n",
        " 0.34575433969787989,\n",
        " 0.34587330924800641,\n",
        " 0.35443188445873286,\n",
        " 0.35723138990040582,\n",
        " 0.36494893821659691,\n",
        " 0.3698211193835631,\n",
        " 0.38511937076262737,\n",
        " 0.39913984012545889,\n",
        " 0.40143838021452399,\n",
        " 0.40517183549311853,\n",
        " 0.41090091331685896,\n",
        " 0.43933912937261144,\n",
        " 0.45207327713042639,\n",
        " 0.47806881275565355,\n",
        " 0.48052164620174165,\n",
        " 0.50452940801666479,\n",
        " 0.50486795909336135,\n",
        " 0.52267166416355337,\n",
        " 0.52325468789167007,\n",
        " 0.55020151854795973,\n",
        " 0.58903743553410504,\n",
        " 0.59344350268398927,\n",
        " 0.6078205508782607,\n",
        " 0.61390624867730792,\n",
        " 0.61645040232778137,\n",
        " 0.61882964486049263,\n",
        " 0.64467882310251046,\n",
        " 0.66044404073372975,\n",
        " 0.66064522544432924,\n",
        " 0.66983957563440799,\n",
        " 0.68282207158067298,\n",
        " 0.68428160928247173,\n",
        " 0.68903245015534453,\n",
        " 0.69103949837903789,\n",
        " 0.69187808987971366,\n",
        " 0.69266213582367286,\n",
        " 0.7063859865868708,\n",
        " 0.70645256078817986,\n",
        " 0.71382058338581122,\n",
        " 0.71589715228154682,\n",
        " 0.71656977669513577,\n",
        " 0.71711415309711446,\n",
        " 0.75058734474221411,\n",
        " 0.75100980390042826,\n",
        " 0.75146086774221044,\n",
        " 0.75253715265585874,\n",
        " 0.75506670601678083,\n",
        " 0.75583880504604006,\n",
        " 0.76260669613619037,\n",
        " 0.76729615853281075,\n",
        " 0.76739785080008682,\n",
        " 0.77524985057682549,\n",
        " 0.78766081525348441,\n",
        " 0.78877635490921638,\n",
        " 0.78996446721861668,\n",
        " 0.79278691131658863,\n",
        " 0.79934906737697109,\n",
        " 0.80133153352891984,\n",
        " 0.81827171862879966,\n",
        " 0.82951451270518028,\n",
        " 0.82975352623422316,\n",
        " 0.83697062222846297,\n",
        " 0.83710636383200565,\n",
        " 0.84659671782972801,\n",
        " 0.84755174113898823,\n",
        " 0.84958335868985124,\n",
        " 0.85751647963134914,\n",
        " 0.86229779845337051,\n",
        " 0.87275420735861808,\n",
        " 0.87482542405148211,\n",
        " 0.8761690317962938,\n",
        " 0.87699385609537428,\n",
        " 0.88198649659074113,\n",
        " 0.88736074415530353,\n",
        " 0.88905674628947406,\n",
        " 0.89172819110014667,\n",
        " 0.89269275368274503,\n",
        " 0.89562700518325156,\n",
        " 0.89566763977198738,\n",
        " 0.91138495746649073,\n",
        " 0.91410913803141092,\n",
        " 0.91567528788127173,\n",
        " 0.91650120816943759,\n",
        " 0.92299911211692576,\n",
        " 0.9230981838830038,\n",
        " 0.9232203851963976,\n",
        " 0.92359619681324656,\n",
        " 0.92491232100478193,\n",
        " 0.92492409251316876]"
       ]
      },
      {
       "metadata": {},
       "output_type": "display_data",
       "png": "[encoded data removed]",
       "text": [
        "<matplotlib.figure.Figure at 0x11ee3d710>"
       ]
      }
     ],
     "prompt_number": 212
    },
    {
     "cell_type": "code",
     "collapsed": false,
     "input": [
      "def r_mapeo(R, n, x0 = 0.2, eps = 10e-8, lista_r = None, lista_x = None, M = None) :\n",
      "    delta_r = float(R.hi - R.lo)/n\n",
      "    \n",
      "    r = R.lo\n",
      "    while r <= R.hi :\n",
      "        r += delta_r\n",
      "        a = mapeo(r, lista_r, lista_x, x0)\n",
      "    else :\n",
      "        plt.show()"
     ],
     "language": "python",
     "metadata": {},
     "outputs": [],
     "prompt_number": 208
    },
    {
     "cell_type": "code",
     "collapsed": false,
     "input": [
      "R = Intervalo(2, 3.98)"
     ],
     "language": "python",
     "metadata": {},
     "outputs": [],
     "prompt_number": 209
    },
    {
     "cell_type": "code",
     "collapsed": false,
     "input": [
      "r_mapeo(R, 10000)"
     ],
     "language": "python",
     "metadata": {},
     "outputs": [
      {
       "metadata": {},
       "output_type": "display_data",
       "png": "[encoded data removed]",
       "text": [
        "<matplotlib.figure.Figure at 0x11000c210>"
       ]
      }
     ],
     "prompt_number": 161
    },
    {
     "cell_type": "code",
     "collapsed": false,
     "input": [
      "def cobweb(r, x0=0.2, steps=1000, eps=1e-7):\n",
      "    x = np.linspace(0,1,1001)\n",
      "    y = f(x, r)\n",
      "    plt.plot(x, y, color=\"purple\")\n",
      "    plt.plot(x, x, color=\"blue\")\n",
      "    plt.axis([0, 1, 0, 1])\n",
      "    i = 1\n",
      "    \n",
      "    while (i < steps) :\n",
      "        xn = f(x0, r)\n",
      "        if i == 1 :\n",
      "            plt.plot([x0,x0],[0,f(x0,r)], color=\"red\")\n",
      "        \n",
      "        plt.plot([xn,xn],[f(x0,r),f(xn,r)], color=\"red\")     \n",
      "        plt.plot([x0,xn],[f(x0,r),xn], color=\"red\")\n",
      "        \n",
      "        if np.abs(xn - x0) < eps :\n",
      "            break\n",
      "        \n",
      "        x0 = xn\n",
      "        i += 1\n",
      "    \n",
      "    plt.grid()\n",
      "    plt.show()"
     ],
     "language": "python",
     "metadata": {},
     "outputs": [],
     "prompt_number": 280
    },
    {
     "cell_type": "code",
     "collapsed": false,
     "input": [
      "cobweb(3.48)"
     ],
     "language": "python",
     "metadata": {},
     "outputs": [
      {
       "metadata": {},
       "output_type": "display_data",
       "png": "[encoded data removed]",
       "text": [
        "<matplotlib.figure.Figure at 0x130730850>"
       ]
      }
     ],
     "prompt_number": 281
    },
    {
     "cell_type": "code",
     "collapsed": false,
     "input": [],
     "language": "python",
     "metadata": {},
     "outputs": []
    }
   ],
   "metadata": {}
  }
 ]
}